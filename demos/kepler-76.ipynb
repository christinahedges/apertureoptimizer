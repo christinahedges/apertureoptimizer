{
 "cells": [
  {
   "cell_type": "code",
   "execution_count": 119,
   "metadata": {},
   "outputs": [],
   "source": [
    "import lightkurve as lk\n",
    "import numpy as np\n",
    "from apertureoptimizer import ApertureOptimizer\n",
    "\n",
    "# Download KOI 6.01, an exoplanet False Positive\n",
    "tpfs = lk.search_targetpixelfile('kepler-76', quarter=3).download_all()\n",
    "tpf = tpfs[1]\n",
    "\n",
    "# Define a corrector function\n",
    "def corrector(lc):\n",
    "    clc = lc.copy().flatten(501)#.remove_outliers(sigma_upper=3, sigma_lower=5)\n",
    "    return clc"
   ]
  },
  {
   "cell_type": "code",
   "execution_count": null,
   "metadata": {},
   "outputs": [],
   "source": [
    "p = tpf.to_lightcurve().flatten(501).to_periodogram('bls', minimum_period=1.4, maximum_period=1.6, frequency_factor=1, duration=0.05)"
   ]
  },
  {
   "cell_type": "code",
   "execution_count": null,
   "metadata": {},
   "outputs": [],
   "source": [
    "mask = p.get_transit_mask()"
   ]
  },
  {
   "cell_type": "code",
   "execution_count": null,
   "metadata": {},
   "outputs": [],
   "source": [
    "lc = tpf.to_lightcurve().flatten(501)\n",
    "lc.plot()"
   ]
  },
  {
   "cell_type": "code",
   "execution_count": null,
   "metadata": {},
   "outputs": [],
   "source": [
    "lc.fold(p.period_at_max_power.value, p.transit_time_at_max_power).scatter()"
   ]
  },
  {
   "cell_type": "code",
   "execution_count": null,
   "metadata": {},
   "outputs": [],
   "source": [
    "corrector(tpf.to_lightcurve()).fold(period, t0).plot()"
   ]
  },
  {
   "cell_type": "code",
   "execution_count": null,
   "metadata": {},
   "outputs": [],
   "source": [
    "# Make an ApertureOptimizer Class, pass in the False Positive parameters\n",
    "a = ApertureOptimizer(tpf, period, t0, duration, corrector=corrector)\n",
    "\n",
    "# Optimize the aperture\n",
    "a.optimize()\n",
    "\n",
    "# Plot the results\n",
    "a.plot_results(bin=20)\n",
    "\n",
    "# Use the best light curve as you normally would.\n",
    "lc = a.best_lc"
   ]
  },
  {
   "cell_type": "code",
   "execution_count": null,
   "metadata": {},
   "outputs": [],
   "source": [
    "import matplotlib.pyplot as plt\n",
    "bin = 10\n",
    "ax = a.starting_lc.fold(period, t0).bin(bin).errorbar(c='k', label='')\n",
    "a.starting_lc.fold(period, t0).bin(bin).plot(c='k', ax=ax, label='Pipeline')\n",
    "\n",
    "\n",
    "a.best_lc.fold(period, t0).bin(bin).errorbar(ax=ax, c='r', label='')\n",
    "a.best_lc.fold(period, t0).bin(bin).plot(ax=ax, c='r', label='Optimal')\n",
    "\n",
    "lk.LightCurve(a.best_lc.time, a.mask(a.best_lc.time) * 0.0005 + 1).fold(period, t0).plot(ax=ax, label='Transit Mask')\n",
    "plt.xlim(-0.1, 0.1)\n",
    "\n"
   ]
  },
  {
   "cell_type": "code",
   "execution_count": null,
   "metadata": {},
   "outputs": [],
   "source": [
    "tpf.interact(notebook_url='http://localhost:8926')"
   ]
  },
  {
   "cell_type": "code",
   "execution_count": null,
   "metadata": {},
   "outputs": [],
   "source": []
  },
  {
   "cell_type": "code",
   "execution_count": null,
   "metadata": {},
   "outputs": [],
   "source": []
  }
 ],
 "metadata": {
  "kernelspec": {
   "display_name": "Python 3",
   "language": "python",
   "name": "python3"
  },
  "language_info": {
   "codemirror_mode": {
    "name": "ipython",
    "version": 3
   },
   "file_extension": ".py",
   "mimetype": "text/x-python",
   "name": "python",
   "nbconvert_exporter": "python",
   "pygments_lexer": "ipython3",
   "version": "3.6.5"
  }
 },
 "nbformat": 4,
 "nbformat_minor": 2
}
